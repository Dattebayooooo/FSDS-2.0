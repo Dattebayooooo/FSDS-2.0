{
 "cells": [
  {
   "cell_type": "code",
   "execution_count": 1,
   "id": "9eb20e31-4add-4190-8f99-6621fcff60ae",
   "metadata": {},
   "outputs": [],
   "source": [
    "## Imports\n",
    "from flask import Flask, render_template, request,jsonify\n",
    "from flask_cors import CORS,cross_origin\n",
    "\n",
    "import requests\n",
    "from bs4 import BeautifulSoup as bs\n",
    "from urllib.request import urlopen as uReq"
   ]
  },
  {
   "cell_type": "code",
   "execution_count": 2,
   "id": "d27a661b-e25b-44e1-8bbf-a5f84c19f073",
   "metadata": {},
   "outputs": [],
   "source": [
    "searchstring = \"iphone 11\"\n",
    "flipkart_url = \"https://flipkart.com/search?q=\" + '%20'.join(searchstring.split(' '))"
   ]
  },
  {
   "cell_type": "code",
   "execution_count": 3,
   "id": "7168c061-9f91-4b81-b4ab-6036441b93c8",
   "metadata": {},
   "outputs": [
    {
     "data": {
      "text/plain": [
       "'https://flipkart.com/search?q=iphone%2011'"
      ]
     },
     "execution_count": 3,
     "metadata": {},
     "output_type": "execute_result"
    }
   ],
   "source": [
    "flipkart_url"
   ]
  },
  {
   "cell_type": "code",
   "execution_count": 13,
   "id": "74085c8b-7933-4342-960f-501d7dec1a27",
   "metadata": {},
   "outputs": [
    {
     "data": {
      "text/plain": [
       "200"
      ]
     },
     "execution_count": 13,
     "metadata": {},
     "output_type": "execute_result"
    }
   ],
   "source": [
    "url_client = uReq(flipkart_url)\n",
    "\n",
    "##status code - if proper request was sent\n",
    "url_client.status"
   ]
  },
  {
   "cell_type": "code",
   "execution_count": 20,
   "id": "5823470c-9422-4d3d-bca1-9e0dc9d171b1",
   "metadata": {},
   "outputs": [],
   "source": [
    "flipkart_page = url_client.read()\n",
    "# url_client.close()"
   ]
  },
  {
   "cell_type": "code",
   "execution_count": 21,
   "id": "b3d8841e-d141-454b-ba35-c03b59ef1d08",
   "metadata": {},
   "outputs": [
    {
     "data": {
      "text/plain": []
     },
     "execution_count": 21,
     "metadata": {},
     "output_type": "execute_result"
    }
   ],
   "source": [
    "flipkart_html = bs(flipkart_page, \"html.parser\")\n",
    "flipkart_html"
   ]
  },
  {
   "cell_type": "code",
   "execution_count": null,
   "id": "bea00368-724e-442b-b6dd-95683943f9fd",
   "metadata": {},
   "outputs": [],
   "source": []
  }
 ],
 "metadata": {
  "kernelspec": {
   "display_name": "Python 3 (ipykernel)",
   "language": "python",
   "name": "python3"
  },
  "language_info": {
   "codemirror_mode": {
    "name": "ipython",
    "version": 3
   },
   "file_extension": ".py",
   "mimetype": "text/x-python",
   "name": "python",
   "nbconvert_exporter": "python",
   "pygments_lexer": "ipython3",
   "version": "3.10.8"
  }
 },
 "nbformat": 4,
 "nbformat_minor": 5
}
